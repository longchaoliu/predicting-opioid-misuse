{
 "cells": [
  {
   "cell_type": "code",
   "execution_count": 1,
   "metadata": {},
   "outputs": [],
   "source": [
    "import pandas as pd"
   ]
  },
  {
   "cell_type": "code",
   "execution_count": 2,
   "metadata": {
    "scrolled": true
   },
   "outputs": [
    {
     "name": "stderr",
     "output_type": "stream",
     "text": [
      "/anaconda3/lib/python3.7/site-packages/IPython/core/interactiveshell.py:3020: DtypeWarning: Columns (2506) have mixed types. Specify dtype option on import or set low_memory=False.\n",
      "  interactivity=interactivity, compiler=compiler, result=result)\n"
     ]
    }
   ],
   "source": [
    "data = pd.read_csv('NSDUH_2016_Tab.tsv', sep='\\t')"
   ]
  },
  {
   "cell_type": "code",
   "execution_count": 3,
   "metadata": {},
   "outputs": [],
   "source": [
    "mydata = data[['IRSEX', 'CATAGE', 'NEWRACE2', 'INCOME', 'IRWRKSTAT', 'EDUSCHLGO', 'DIFFTHINK','DIFFWALK', 'DIFFDRESS', 'DIFFERAND', 'K6SCMON', 'ALCTRY', 'MJEVER', 'HEALTH','UDPYOPI']]\n",
    "mydata = mydata.rename(index = str, columns = {\"IRSEX\": \"gender\", \"CATAGE\": \"age\",\"NEWRACE2\":\"race\", \"INCOME\":\"income\"\n",
    "                                           ,\n",
    "                'IRWRKSTAT':'employment', 'EDUSCHLGO':'education', 'DIFFTHINK':'diffthink', 'DIFFWALK':'diffwalk'\n",
    "                                              ,\n",
    "                  \"DIFFDRESS\": \"diffdress\", \"DIFFERAND\": \"differrand\", \"K6SCMON\":\"k6 score\", \"ALCTRY\":\"alcohol\"\n",
    "                                             ,\n",
    "                 \"MJEVER\": \"marijuana\", \"HEALTH\": \"overall health\", \"UDPYOPI\":\"oud\"             \n",
    "                                              }) "
   ]
  },
  {
   "cell_type": "code",
   "execution_count": 4,
   "metadata": {},
   "outputs": [
    {
     "data": {
      "text/plain": [
       "Counter({0: 56348, 1: 549})"
      ]
     },
     "execution_count": 4,
     "metadata": {},
     "output_type": "execute_result"
    }
   ],
   "source": [
    "import collections\n",
    "collections.Counter(mydata['oud'])"
   ]
  },
  {
   "cell_type": "code",
   "execution_count": 5,
   "metadata": {
    "scrolled": true
   },
   "outputs": [],
   "source": [
    "mydata1 = pd.get_dummies(mydata, columns = [\"gender\", \"race\"])"
   ]
  },
  {
   "cell_type": "code",
   "execution_count": 6,
   "metadata": {},
   "outputs": [],
   "source": [
    "mydata1 = mydata1[mydata1['education'] < 3]"
   ]
  },
  {
   "cell_type": "code",
   "execution_count": 7,
   "metadata": {},
   "outputs": [
    {
     "data": {
      "text/plain": [
       "(56207, 22)"
      ]
     },
     "execution_count": 7,
     "metadata": {},
     "output_type": "execute_result"
    }
   ],
   "source": [
    "mydata1.shape"
   ]
  },
  {
   "cell_type": "code",
   "execution_count": 8,
   "metadata": {},
   "outputs": [],
   "source": [
    "mydata1 = pd.get_dummies(mydata1, columns = [\"education\"])"
   ]
  },
  {
   "cell_type": "code",
   "execution_count": 9,
   "metadata": {},
   "outputs": [],
   "source": [
    "from sklearn import preprocessing\n",
    "min_max_scaler = preprocessing.MinMaxScaler()"
   ]
  },
  {
   "cell_type": "code",
   "execution_count": 10,
   "metadata": {},
   "outputs": [],
   "source": [
    "float_array = mydata1['age'].values.astype(float)\n",
    "scaled_array = min_max_scaler.fit_transform(float_array.reshape(-1, 1))\n",
    "mydata1['age'] = scaled_array"
   ]
  },
  {
   "cell_type": "code",
   "execution_count": 11,
   "metadata": {
    "scrolled": true
   },
   "outputs": [],
   "source": [
    "float_array = mydata1['income'].values.astype(float)\n",
    "scaled_array = min_max_scaler.fit_transform(float_array.reshape(-1, 1))\n",
    "mydata1['income'] = scaled_array\n",
    "#mydata1"
   ]
  },
  {
   "cell_type": "code",
   "execution_count": 12,
   "metadata": {},
   "outputs": [],
   "source": [
    "mydata1 = mydata1[mydata1['marijuana'] < 3]"
   ]
  },
  {
   "cell_type": "code",
   "execution_count": 13,
   "metadata": {
    "scrolled": true
   },
   "outputs": [
    {
     "data": {
      "text/html": [
       "<div>\n",
       "<style scoped>\n",
       "    .dataframe tbody tr th:only-of-type {\n",
       "        vertical-align: middle;\n",
       "    }\n",
       "\n",
       "    .dataframe tbody tr th {\n",
       "        vertical-align: top;\n",
       "    }\n",
       "\n",
       "    .dataframe thead th {\n",
       "        text-align: right;\n",
       "    }\n",
       "</style>\n",
       "<table border=\"1\" class=\"dataframe\">\n",
       "  <thead>\n",
       "    <tr style=\"text-align: right;\">\n",
       "      <th></th>\n",
       "      <th>age</th>\n",
       "      <th>income</th>\n",
       "      <th>employment</th>\n",
       "      <th>diffthink</th>\n",
       "      <th>diffwalk</th>\n",
       "      <th>diffdress</th>\n",
       "      <th>differrand</th>\n",
       "      <th>k6 score</th>\n",
       "      <th>alcohol</th>\n",
       "      <th>overall health</th>\n",
       "      <th>...</th>\n",
       "      <th>race_2</th>\n",
       "      <th>race_3</th>\n",
       "      <th>race_4</th>\n",
       "      <th>race_5</th>\n",
       "      <th>race_6</th>\n",
       "      <th>race_7</th>\n",
       "      <th>education_1</th>\n",
       "      <th>education_2</th>\n",
       "      <th>marijuana_1</th>\n",
       "      <th>marijuana_2</th>\n",
       "    </tr>\n",
       "  </thead>\n",
       "  <tbody>\n",
       "    <tr>\n",
       "      <th>0</th>\n",
       "      <td>0.666667</td>\n",
       "      <td>1.000000</td>\n",
       "      <td>4</td>\n",
       "      <td>2</td>\n",
       "      <td>2</td>\n",
       "      <td>2</td>\n",
       "      <td>2</td>\n",
       "      <td>4.0</td>\n",
       "      <td>15</td>\n",
       "      <td>1</td>\n",
       "      <td>...</td>\n",
       "      <td>0</td>\n",
       "      <td>0</td>\n",
       "      <td>0</td>\n",
       "      <td>0</td>\n",
       "      <td>0</td>\n",
       "      <td>0</td>\n",
       "      <td>0</td>\n",
       "      <td>1</td>\n",
       "      <td>1</td>\n",
       "      <td>0</td>\n",
       "    </tr>\n",
       "    <tr>\n",
       "      <th>1</th>\n",
       "      <td>0.333333</td>\n",
       "      <td>1.000000</td>\n",
       "      <td>4</td>\n",
       "      <td>2</td>\n",
       "      <td>2</td>\n",
       "      <td>2</td>\n",
       "      <td>2</td>\n",
       "      <td>18.0</td>\n",
       "      <td>15</td>\n",
       "      <td>3</td>\n",
       "      <td>...</td>\n",
       "      <td>0</td>\n",
       "      <td>0</td>\n",
       "      <td>0</td>\n",
       "      <td>0</td>\n",
       "      <td>0</td>\n",
       "      <td>1</td>\n",
       "      <td>0</td>\n",
       "      <td>1</td>\n",
       "      <td>1</td>\n",
       "      <td>0</td>\n",
       "    </tr>\n",
       "    <tr>\n",
       "      <th>2</th>\n",
       "      <td>1.000000</td>\n",
       "      <td>0.333333</td>\n",
       "      <td>3</td>\n",
       "      <td>2</td>\n",
       "      <td>2</td>\n",
       "      <td>2</td>\n",
       "      <td>2</td>\n",
       "      <td>0.0</td>\n",
       "      <td>16</td>\n",
       "      <td>1</td>\n",
       "      <td>...</td>\n",
       "      <td>0</td>\n",
       "      <td>0</td>\n",
       "      <td>0</td>\n",
       "      <td>0</td>\n",
       "      <td>0</td>\n",
       "      <td>1</td>\n",
       "      <td>0</td>\n",
       "      <td>1</td>\n",
       "      <td>0</td>\n",
       "      <td>1</td>\n",
       "    </tr>\n",
       "    <tr>\n",
       "      <th>3</th>\n",
       "      <td>0.000000</td>\n",
       "      <td>1.000000</td>\n",
       "      <td>2</td>\n",
       "      <td>2</td>\n",
       "      <td>2</td>\n",
       "      <td>2</td>\n",
       "      <td>2</td>\n",
       "      <td>NaN</td>\n",
       "      <td>991</td>\n",
       "      <td>1</td>\n",
       "      <td>...</td>\n",
       "      <td>0</td>\n",
       "      <td>0</td>\n",
       "      <td>0</td>\n",
       "      <td>0</td>\n",
       "      <td>0</td>\n",
       "      <td>1</td>\n",
       "      <td>1</td>\n",
       "      <td>0</td>\n",
       "      <td>0</td>\n",
       "      <td>1</td>\n",
       "    </tr>\n",
       "    <tr>\n",
       "      <th>4</th>\n",
       "      <td>1.000000</td>\n",
       "      <td>0.666667</td>\n",
       "      <td>2</td>\n",
       "      <td>2</td>\n",
       "      <td>2</td>\n",
       "      <td>2</td>\n",
       "      <td>2</td>\n",
       "      <td>3.0</td>\n",
       "      <td>18</td>\n",
       "      <td>2</td>\n",
       "      <td>...</td>\n",
       "      <td>0</td>\n",
       "      <td>0</td>\n",
       "      <td>0</td>\n",
       "      <td>0</td>\n",
       "      <td>0</td>\n",
       "      <td>0</td>\n",
       "      <td>0</td>\n",
       "      <td>1</td>\n",
       "      <td>1</td>\n",
       "      <td>0</td>\n",
       "    </tr>\n",
       "  </tbody>\n",
       "</table>\n",
       "<p>5 rows × 24 columns</p>\n",
       "</div>"
      ],
      "text/plain": [
       "        age    income  employment  diffthink  diffwalk  diffdress  differrand  \\\n",
       "0  0.666667  1.000000           4          2         2          2           2   \n",
       "1  0.333333  1.000000           4          2         2          2           2   \n",
       "2  1.000000  0.333333           3          2         2          2           2   \n",
       "3  0.000000  1.000000           2          2         2          2           2   \n",
       "4  1.000000  0.666667           2          2         2          2           2   \n",
       "\n",
       "   k6 score  alcohol  overall health     ...       race_2  race_3  race_4  \\\n",
       "0       4.0       15               1     ...            0       0       0   \n",
       "1      18.0       15               3     ...            0       0       0   \n",
       "2       0.0       16               1     ...            0       0       0   \n",
       "3       NaN      991               1     ...            0       0       0   \n",
       "4       3.0       18               2     ...            0       0       0   \n",
       "\n",
       "   race_5  race_6  race_7  education_1  education_2  marijuana_1  marijuana_2  \n",
       "0       0       0       0            0            1            1            0  \n",
       "1       0       0       1            0            1            1            0  \n",
       "2       0       0       1            0            1            0            1  \n",
       "3       0       0       1            1            0            0            1  \n",
       "4       0       0       0            0            1            1            0  \n",
       "\n",
       "[5 rows x 24 columns]"
      ]
     },
     "execution_count": 13,
     "metadata": {},
     "output_type": "execute_result"
    }
   ],
   "source": [
    "mydata1 = pd.get_dummies(mydata1, columns = [\"marijuana\"])\n",
    "mydata1.head()"
   ]
  },
  {
   "cell_type": "code",
   "execution_count": 14,
   "metadata": {
    "scrolled": true
   },
   "outputs": [
    {
     "name": "stdout",
     "output_type": "stream",
     "text": [
      "TRAIN: [23312  4614 38782 ... 19255  3601 29131] TEST: [46818 12207 44882 ... 36499  3604 48438]\n"
     ]
    }
   ],
   "source": [
    "from sklearn.model_selection import StratifiedShuffleSplit\n",
    "x = mydata1[[\"age\",\"income\",\"gender_1\", \"gender_2\",\"race_1\", \"race_2\", \"race_3\" , \"race_4\",\"race_5\", \"race_6\", \"race_7\", \"education_1\", \"education_2\", \"marijuana_1\", \"marijuana_2\"]]\n",
    "y = mydata1['oud']\n",
    "sss = StratifiedShuffleSplit(n_splits=1, test_size=0.2, random_state=0)\n",
    "sss.get_n_splits(x, y)\n",
    "for train_index, test_index in sss.split(x, y):\n",
    "    print(\"TRAIN:\", train_index, \"TEST:\", test_index)\n",
    "    x_train, x_test = x.iloc[train_index], x.iloc[test_index]\n",
    "    y_train, y_test = y.iloc[train_index], y.iloc[test_index]\n",
    "    \n",
    "    from sklearn.linear_model import LogisticRegression\n",
    "    import sklearn\n",
    "    #import sklearn.SVM\n",
    "    from sklearn.neural_network import MLPClassifier\n",
    "\n",
    "    logreg = MLPClassifier()\n",
    "    results = logreg.fit(x_train, y_train)\n",
    "\n",
    "    from sklearn.metrics import auc\n",
    "\n",
    "    # apply the model to test data\n",
    "    y_val_predict = logreg.predict(x_test)\n",
    "    y_val_proba = logreg.predict_proba(x_test)\n",
    "# data_train, data_val = train_test_split(mydata1, test_size = 0.20, random_state = 0, stratify = mydata1['oud'])\n",
    "# y_train = data_train['oud']\n",
    "# y_val = data_val['oud']\n",
    "\n",
    "# # only features \n",
    "# X_train = data_train[[\"age\",\"income\",\"gender_1\", \"gender_2\",\"race_1\", \"race_2\", \"race_3\" , \"race_4\",\"race_5\", \"race_6\", \"race_7\", \"education_1\", \"education_2\"]]\n",
    "# X_val = data_val[[\"age\",\"income\",\"gender_1\", \"gender_2\",\"race_1\", \"race_2\", \"race_3\" , \"race_4\",\"race_5\", \"race_6\", \"race_7\", \"education_1\", \"education_2\"]]\n",
    "\n",
    "\n",
    "# print(y_train.sum())\n",
    "\n"
   ]
  },
  {
   "cell_type": "code",
   "execution_count": 16,
   "metadata": {},
   "outputs": [],
   "source": [
    "def balanced_subsample(x,y,subsample_size=1.0):\n",
    "\n",
    "    class_xs = []\n",
    "    min_elems = None\n",
    "\n",
    "    for yi in np.unique(y):\n",
    "        elems = x[(y == yi)]\n",
    "        class_xs.append((yi, elems))\n",
    "        if min_elems == None or elems.shape[0] < min_elems:\n",
    "            min_elems = elems.shape[0]\n",
    "\n",
    "    use_elems = min_elems\n",
    "    if subsample_size < 1:\n",
    "        use_elems = int(min_elems*subsample_size)\n",
    "\n",
    "    xs = []\n",
    "    ys = []\n",
    "\n",
    "    for ci,this_xs in class_xs:\n",
    "        if len(this_xs) > use_elems:\n",
    "            this_xs = this_xs.reindex(np.random.permutation(this_xs.index))\n",
    "\n",
    "        x_ = this_xs[:use_elems]\n",
    "        y_ = np.empty(use_elems)\n",
    "        y_.fill(ci)\n",
    "\n",
    "        xs.append(x_)\n",
    "        ys.append(y_)\n",
    "\n",
    "    xs = pd.concat(xs)\n",
    "    ys = pd.Series(data=np.concatenate(ys),name='target')\n",
    "\n",
    "    return xs,ys\n"
   ]
  },
  {
   "cell_type": "code",
   "execution_count": 18,
   "metadata": {
    "scrolled": true
   },
   "outputs": [
    {
     "name": "stderr",
     "output_type": "stream",
     "text": [
      "/anaconda3/lib/python3.7/site-packages/sklearn/neural_network/multilayer_perceptron.py:562: ConvergenceWarning: Stochastic Optimizer: Maximum iterations (200) reached and the optimization hasn't converged yet.\n",
      "  % self.max_iter, ConvergenceWarning)\n"
     ]
    },
    {
     "name": "stdout",
     "output_type": "stream",
     "text": [
      "(216,)\n",
      "(216, 2)\n",
      "AUC:  0.8351766117969821\n"
     ]
    },
    {
     "data": {
      "image/png": "[encoded data removed]",
      "text/plain": [
       "<Figure size 432x288 with 1 Axes>"
      ]
     },
     "metadata": {
      "needs_background": "light"
     },
     "output_type": "display_data"
    },
    {
     "name": "stdout",
     "output_type": "stream",
     "text": [
      "              precision    recall  f1-score   support\n",
      "\n",
      "         0.0       0.76      0.77      0.77       106\n",
      "         1.0       0.78      0.76      0.77       110\n",
      "\n",
      "   micro avg       0.77      0.77      0.77       216\n",
      "   macro avg       0.77      0.77      0.77       216\n",
      "weighted avg       0.77      0.77      0.77       216\n",
      "\n",
      "0.7685185185185185\n"
     ]
    }
   ],
   "source": [
    "import numpy as np\n",
    "xs, ys = balanced_subsample(x,y)\n",
    "sss = StratifiedShuffleSplit(n_splits=1, test_size=0.2, random_state=0)\n",
    "sss.get_n_splits(xs, ys)\n",
    "for train_index, test_index in sss.split(xs, ys):\n",
    "    #print(\"TRAIN:\", train_index, \"TEST:\", test_index)\n",
    "    x_train, x_test = xs.iloc[train_index], xs.iloc[test_index]\n",
    "    #print(y_train.sum())\n",
    "    y_train, y_test = ys.iloc[train_index], ys.iloc[test_index]\n",
    "    \n",
    "    from sklearn.linear_model import LogisticRegression\n",
    "    import sklearn\n",
    "    #import sklearn.SVM\n",
    "    from sklearn.neural_network import MLPClassifier\n",
    "\n",
    "    logreg = MLPClassifier()\n",
    "    results = logreg.fit(x_train, y_train)\n",
    "\n",
    "    from sklearn.metrics import auc\n",
    "\n",
    "    # apply the model to test data\n",
    "    y_val_predict = logreg.predict(x_test)\n",
    "    y_val_proba = logreg.predict_proba(x_test)\n",
    "from sklearn import metrics\n",
    "from sklearn.metrics import confusion_matrix\n",
    "print(y_test.shape)\n",
    "print(y_val_proba.shape)\n",
    "fpr, tpr, threshold = metrics.roc_curve(y_test, y_val_proba[:,1])\n",
    "\n",
    "# Calculate the area under the ROC curve\n",
    "roc_auc = metrics.auc(fpr, tpr)\n",
    "print('AUC: ',roc_auc)\n",
    "\n",
    "#Plot ROC\n",
    "import matplotlib.pyplot as plt\n",
    "plt.title('Receiver Operating Characteristic')\n",
    "plt.plot(fpr, tpr, 'b', label = 'AUC = %0.3f' % roc_auc)\n",
    "plt.legend(loc = 'lower right')\n",
    "plt.plot([0, 1], [0, 1],'r--')\n",
    "plt.xlim([0, 1])\n",
    "plt.ylim([0, 1])\n",
    "plt.ylabel('True Positive Rate')\n",
    "plt.xlabel('False Positive Rate')\n",
    "plt.show()\n",
    "#print(len(y_test))\n",
    "#print(np.array(y_test))\n",
    "#print(y_val_proba[:,1].round())\n",
    "test = np.array(y_test)\n",
    "pred = y_val_proba[:,1].round()\n",
    "print(metrics.classification_report(pred, test))\n",
    "print(metrics.accuracy_score(pred, test))"
   ]
  },
  {
   "cell_type": "code",
   "execution_count": 19,
   "metadata": {
    "scrolled": true
   },
   "outputs": [
    {
     "name": "stdout",
     "output_type": "stream",
     "text": [
      "(216,)\n",
      "(216, 2)\n",
      "AUC:  0.8351766117969821\n"
     ]
    },
    {
     "data": {
      "image/png": "[encoded data removed]",
      "text/plain": [
       "<Figure size 864x576 with 1 Axes>"
      ]
     },
     "metadata": {
      "needs_background": "light"
     },
     "output_type": "display_data"
    },
    {
     "name": "stdout",
     "output_type": "stream",
     "text": [
      "              precision    recall  f1-score   support\n",
      "\n",
      "         0.0       0.76      0.77      0.77       106\n",
      "         1.0       0.78      0.76      0.77       110\n",
      "\n",
      "   micro avg       0.77      0.77      0.77       216\n",
      "   macro avg       0.77      0.77      0.77       216\n",
      "weighted avg       0.77      0.77      0.77       216\n",
      "\n",
      "testing accuracy:  0.7685185185185185\n"
     ]
    }
   ],
   "source": [
    "from sklearn import metrics\n",
    "from sklearn.metrics import confusion_matrix\n",
    "print(y_test.shape)\n",
    "print(y_val_proba.shape)\n",
    "fpr, tpr, threshold = metrics.roc_curve(y_test, y_val_proba[:,1])\n",
    "\n",
    "# Calculate the area under the ROC curve\n",
    "roc_auc = metrics.auc(fpr, tpr)\n",
    "print('AUC: ',roc_auc)\n",
    "\n",
    "#Plot ROC\n",
    "import matplotlib.pyplot as plt\n",
    "plt.figure(figsize=(12,8))\n",
    "plt.title('Receiver Operating Characteristic')\n",
    "plt.plot(fpr, tpr, 'b', label = 'AUC = %0.3f' % roc_auc)\n",
    "plt.legend(loc = 'lower right')\n",
    "plt.plot([0, 1], [0, 1],'r--')\n",
    "plt.xlim([0, 1])\n",
    "plt.ylim([0, 1])\n",
    "plt.ylabel('True Positive Rate')\n",
    "plt.xlabel('False Positive Rate')\n",
    "plt.show()\n",
    "#print(len(y_test))\n",
    "#print(np.array(y_test))\n",
    "#print(y_val_proba[:,1].round())\n",
    "test = np.array(y_test)\n",
    "pred = y_val_proba[:,1].round()\n",
    "print(metrics.classification_report(pred, test))\n",
    "print('testing accuracy: ', metrics.accuracy_score(pred, test))"
   ]
  },
  {
   "cell_type": "code",
   "execution_count": null,
   "metadata": {},
   "outputs": [],
   "source": []
  },
  {
   "cell_type": "code",
   "execution_count": null,
   "metadata": {},
   "outputs": [],
   "source": []
  }
 ],
 "metadata": {
  "kernelspec": {
   "display_name": "Python 3",
   "language": "python",
   "name": "python3"
  },
  "language_info": {
   "codemirror_mode": {
    "name": "ipython",
    "version": 3
   },
   "file_extension": ".py",
   "mimetype": "text/x-python",
   "name": "python",
   "nbconvert_exporter": "python",
   "pygments_lexer": "ipython3",
   "version": "3.7.1"
  }
 },
 "nbformat": 4,
 "nbformat_minor": 2
}
